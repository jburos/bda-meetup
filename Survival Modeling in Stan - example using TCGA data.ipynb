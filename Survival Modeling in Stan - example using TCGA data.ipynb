{
 "cells": [
  {
   "cell_type": "code",
   "execution_count": 25,
   "metadata": {
    "ExecuteTime": {
     "end_time": "2016-08-05T16:34:10.022058",
     "start_time": "2016-08-05T16:34:09.979229"
    },
    "collapsed": false,
    "slideshow": {
     "slide_type": "skip"
    }
   },
   "outputs": [
    {
     "name": "stdout",
     "output_type": "stream",
     "text": [
      "The autoreload extension is already loaded. To reload it, use:\n",
      "  %reload_ext autoreload\n"
     ]
    }
   ],
   "source": [
    "%load_ext autoreload\n",
    "%autoreload 2\n",
    "import matplotlib\n",
    "import matplotlib.pyplot as plt\n",
    "%matplotlib inline\n",
    "from numpy.random import uniform, exponential\n",
    "import numpy as np\n",
    "import pandas as pd\n",
    "import seaborn as sb\n",
    "from lifelines.utils import survival_table_from_events\n",
    "from lifelines.plotting import plot_lifetimes\n",
    "import stanity\n",
    "import survivalstan\n",
    "import io\n",
    "import requests\n",
    "from cohorts.utils import strip_column_names\n",
    "\n",
    "## plot/figure defaults\n",
    "plt.style.use('ggplot')\n",
    "matplotlib.rcParams['figure.figsize'] = (15.0, 8.0)\n",
    "plt.rcParams['font.size'] = 20\n",
    "plt.rcParams['axes.labelsize'] = 13\n",
    "plt.rcParams['axes.labelweight'] = 'bold'\n",
    "plt.rcParams['axes.titlesize'] = 13\n",
    "plt.rcParams['xtick.labelsize'] = 13\n",
    "plt.rcParams['ytick.labelsize'] = 13\n",
    "plt.rcParams['legend.fontsize'] = 13\n",
    "plt.rcParams['figure.titlesize'] = 'large'\n"
   ]
  },
  {
   "cell_type": "code",
   "execution_count": 26,
   "metadata": {
    "ExecuteTime": {
     "end_time": "2016-08-05T16:34:10.052099",
     "start_time": "2016-08-05T16:34:10.023932"
    },
    "collapsed": false,
    "slideshow": {
     "slide_type": "skip"
    }
   },
   "outputs": [],
   "source": [
    "## utility function to plot survival curve estimates\n",
    "def plot_cum_survival(t, event):\n",
    "    # at each time t, calculate the cumulative survival\n",
    "    cum_survival = survival_table_from_events(t, event)\n",
    "    cum_survival.reset_index(0, inplace=True)\n",
    "    cum_survival.rename(columns = {'event_at': 't'}, inplace=True)\n",
    "    cum_survival['Survival'] = cum_survival['at_risk']/max(cum_survival['at_risk'])\n",
    "    # create figure\n",
    "    fig = plt.figure()\n",
    "    _ = plt.plot(cum_survival.t, cum_survival.Survival, 'rs')\n",
    "    _ = plt.xlabel('time')\n",
    "    return(cum_survival)\n"
   ]
  },
  {
   "cell_type": "code",
   "execution_count": 27,
   "metadata": {
    "ExecuteTime": {
     "end_time": "2016-08-05T16:34:10.076670",
     "start_time": "2016-08-05T16:34:10.053994"
    },
    "collapsed": false,
    "slideshow": {
     "slide_type": "subslide"
    }
   },
   "outputs": [
    {
     "name": "stdout",
     "output_type": "stream",
     "text": [
      "stan/exp_survival_model.stan\n",
      "stan/pem_survival_model_unstructured.stan\n",
      "stan/pem_survival_model_gamma.stan\n",
      "stan/pem_survival_model_randomwalk_bspline_est_xi.stan\n",
      "stan/pem_survival_model_randomwalk.stan\n",
      "stan/pem_survival_model_randomwalk_bspline.stan\n",
      "stan/weibull_survival_model.stan\n"
     ]
    }
   ],
   "source": [
    "models = survivalstan.utils.read_files('stan')"
   ]
  },
  {
   "cell_type": "markdown",
   "metadata": {},
   "source": [
    "# Analysis of TCGA data"
   ]
  },
  {
   "cell_type": "code",
   "execution_count": 28,
   "metadata": {
    "ExecuteTime": {
     "end_time": "2016-08-05T16:34:10.424547",
     "start_time": "2016-08-05T16:34:10.078621"
    },
    "collapsed": false,
    "slideshow": {
     "slide_type": "slide"
    }
   },
   "outputs": [],
   "source": [
    "## example data from TCGA-BLCA cohort\n",
    "url = 'http://www.cbioportal.org/webservice.do?cmd=getClinicalData&case_set_id=blca_tcga_all'\n",
    "s = requests.get(url).content\n",
    "c = pd.read_csv(io.StringIO(s.decode('utf-8')), delimiter='\\t')\n",
    "tcga = c.rename(columns=strip_column_names(c.columns))\n",
    "tcga = tcga.dropna(subset=['os_months','os_status'])"
   ]
  },
  {
   "cell_type": "code",
   "execution_count": 29,
   "metadata": {
    "ExecuteTime": {
     "end_time": "2016-08-05T16:34:10.466377",
     "start_time": "2016-08-05T16:34:10.426479"
    },
    "collapsed": false,
    "slideshow": {
     "slide_type": "slide"
    }
   },
   "outputs": [
    {
     "data": {
      "text/html": [
       "<div>\n",
       "<table border=\"1\" class=\"dataframe\">\n",
       "  <thead>\n",
       "    <tr style=\"text-align: right;\">\n",
       "      <th></th>\n",
       "      <th>case_id</th>\n",
       "      <th>os_status</th>\n",
       "      <th>os_months</th>\n",
       "      <th>age</th>\n",
       "      <th>histological_subtype</th>\n",
       "      <th>dfs_status</th>\n",
       "      <th>dfs_months</th>\n",
       "    </tr>\n",
       "  </thead>\n",
       "  <tbody>\n",
       "    <tr>\n",
       "      <th>0</th>\n",
       "      <td>TCGA-GV-A40G-01</td>\n",
       "      <td>LIVING</td>\n",
       "      <td>19.05</td>\n",
       "      <td>77.0</td>\n",
       "      <td>Non-Papillary</td>\n",
       "      <td>DiseaseFree</td>\n",
       "      <td>19.05</td>\n",
       "    </tr>\n",
       "    <tr>\n",
       "      <th>1</th>\n",
       "      <td>TCGA-E7-A7DU-01</td>\n",
       "      <td>LIVING</td>\n",
       "      <td>0.92</td>\n",
       "      <td>73.0</td>\n",
       "      <td>Papillary</td>\n",
       "      <td>DiseaseFree</td>\n",
       "      <td>0.92</td>\n",
       "    </tr>\n",
       "    <tr>\n",
       "      <th>2</th>\n",
       "      <td>TCGA-CF-A5UA-01</td>\n",
       "      <td>LIVING</td>\n",
       "      <td>11.99</td>\n",
       "      <td>67.0</td>\n",
       "      <td>Papillary</td>\n",
       "      <td>DiseaseFree</td>\n",
       "      <td>11.99</td>\n",
       "    </tr>\n",
       "    <tr>\n",
       "      <th>3</th>\n",
       "      <td>TCGA-FD-A5BT-01</td>\n",
       "      <td>DECEASED</td>\n",
       "      <td>10.78</td>\n",
       "      <td>84.0</td>\n",
       "      <td>Non-Papillary</td>\n",
       "      <td>NaN</td>\n",
       "      <td>NaN</td>\n",
       "    </tr>\n",
       "    <tr>\n",
       "      <th>4</th>\n",
       "      <td>TCGA-DK-A3X1-01</td>\n",
       "      <td>LIVING</td>\n",
       "      <td>66.00</td>\n",
       "      <td>78.0</td>\n",
       "      <td>Non-Papillary</td>\n",
       "      <td>DiseaseFree</td>\n",
       "      <td>66.00</td>\n",
       "    </tr>\n",
       "  </tbody>\n",
       "</table>\n",
       "</div>"
      ],
      "text/plain": [
       "           case_id os_status  os_months   age histological_subtype  \\\n",
       "0  TCGA-GV-A40G-01    LIVING      19.05  77.0        Non-Papillary   \n",
       "1  TCGA-E7-A7DU-01    LIVING       0.92  73.0            Papillary   \n",
       "2  TCGA-CF-A5UA-01    LIVING      11.99  67.0            Papillary   \n",
       "3  TCGA-FD-A5BT-01  DECEASED      10.78  84.0        Non-Papillary   \n",
       "4  TCGA-DK-A3X1-01    LIVING      66.00  78.0        Non-Papillary   \n",
       "\n",
       "    dfs_status  dfs_months  \n",
       "0  DiseaseFree       19.05  \n",
       "1  DiseaseFree        0.92  \n",
       "2  DiseaseFree       11.99  \n",
       "3          NaN         NaN  \n",
       "4  DiseaseFree       66.00  "
      ]
     },
     "execution_count": 29,
     "metadata": {},
     "output_type": "execute_result"
    }
   ],
   "source": [
    "## inspect key explanatory variables\n",
    "tcga.loc[:,['case_id', 'os_status', 'os_months', 'age', 'histological_subtype',\n",
    "         'dfs_status', 'dfs_months']].head()"
   ]
  },
  {
   "cell_type": "code",
   "execution_count": 30,
   "metadata": {
    "ExecuteTime": {
     "end_time": "2016-08-05T16:34:10.888831",
     "start_time": "2016-08-05T16:34:10.468102"
    },
    "collapsed": false,
    "scrolled": false,
    "slideshow": {
     "slide_type": "slide"
    }
   },
   "outputs": [
    {
     "data": {
      "text/plain": [
       "<matplotlib.axes._subplots.AxesSubplot at 0x7faf00dc2c10>"
      ]
     },
     "execution_count": 30,
     "metadata": {},
     "output_type": "execute_result"
    },
    {
     "data": {
      "image/png": "[encoded data removed]",
      "text/plain": [
       "<matplotlib.figure.Figure at 0x7faf02727f90>"
      ]
     },
     "metadata": {},
     "output_type": "display_data"
    }
   ],
   "source": [
    "## distribution of survival times\n",
    "sb.distplot(tcga.os_months)"
   ]
  },
  {
   "cell_type": "code",
   "execution_count": 31,
   "metadata": {
    "ExecuteTime": {
     "end_time": "2016-08-05T16:34:12.841030",
     "start_time": "2016-08-05T16:34:10.890698"
    },
    "collapsed": false,
    "slideshow": {
     "slide_type": "subslide"
    }
   },
   "outputs": [
    {
     "data": {
      "image/png": "[encoded data removed]",
      "text/plain": [
       "<matplotlib.figure.Figure at 0x7faf00d20850>"
      ]
     },
     "metadata": {},
     "output_type": "display_data"
    }
   ],
   "source": [
    "tcga['event'] = tcga['os_status']=='DECEASED'\n",
    "tcga['time'] = tcga['os_months']\n",
    "tcga = tcga.query('time >= 0')\n",
    "a = plot_cum_survival(event=tcga.event, t=tcga.time)"
   ]
  },
  {
   "cell_type": "code",
   "execution_count": 32,
   "metadata": {
    "ExecuteTime": {
     "end_time": "2016-08-05T16:34:20.727197",
     "start_time": "2016-08-05T16:34:12.842883"
    },
    "collapsed": false,
    "slideshow": {
     "slide_type": "skip"
    }
   },
   "outputs": [],
   "source": [
    "tcga_long = survivalstan.prep_data_long_surv(df=tcga, event_col='event', time_col='time')\n"
   ]
  },
  {
   "cell_type": "code",
   "execution_count": 33,
   "metadata": {
    "ExecuteTime": {
     "end_time": "2016-08-05T16:34:20.753524",
     "start_time": "2016-08-05T16:34:20.729466"
    },
    "collapsed": false,
    "slideshow": {
     "slide_type": "skip"
    }
   },
   "outputs": [
    {
     "name": "stdout",
     "output_type": "stream",
     "text": [
      "stan/exp_survival_model.stan\n",
      "stan/pem_survival_model_unstructured.stan\n",
      "stan/pem_survival_model_gamma.stan\n",
      "stan/pem_survival_model_randomwalk_bspline_est_xi.stan\n",
      "stan/pem_survival_model_randomwalk.stan\n",
      "stan/pem_survival_model_randomwalk_bspline.stan\n",
      "stan/weibull_survival_model.stan\n"
     ]
    }
   ],
   "source": [
    "models = survivalstan.utils.read_files('stan')"
   ]
  },
  {
   "cell_type": "markdown",
   "metadata": {
    "slideshow": {
     "slide_type": "slide"
    }
   },
   "source": [
    "# inspect baseline hazard"
   ]
  },
  {
   "cell_type": "markdown",
   "metadata": {},
   "source": [
    "First we will check our model fit using an *unstructured* baseline hazard"
   ]
  },
  {
   "cell_type": "code",
   "execution_count": null,
   "metadata": {
    "ExecuteTime": {
     "start_time": "2016-08-05T16:59:44.010Z"
    },
    "collapsed": false,
    "slideshow": {
     "slide_type": "slide"
    }
   },
   "outputs": [
    {
     "name": "stdout",
     "output_type": "stream",
     "text": [
      "Reusing model.\n"
     ]
    }
   ],
   "source": [
    "pem_tcga = survivalstan.fit_stan_survival_model(df=tcga_long,\n",
    "                                                formula='~ 1',\n",
    "                                                event_col='end_failure',\n",
    "                                                timepoint_end_col='end_time',\n",
    "                                                sample_col='case_id',\n",
    "                                                model_code=models['pem_survival_model_unstructured.stan'],\n",
    "                                                model_cohort='TCGA, unstr hazard',\n",
    "                                                chains=4,\n",
    "                                                iter=1000\n",
    "                                                )"
   ]
  },
  {
   "cell_type": "code",
   "execution_count": null,
   "metadata": {
    "ExecuteTime": {
     "start_time": "2016-08-05T15:55:13.576Z"
    },
    "collapsed": true
   },
   "outputs": [],
   "source": [
    "survivalstan.utils.plot_coefs([pem_tcga], element='baseline_raw')"
   ]
  },
  {
   "cell_type": "code",
   "execution_count": null,
   "metadata": {
    "collapsed": true
   },
   "outputs": [],
   "source": [
    "pem_tcga2 = survivalstan.fit_stan_survival_model(df=tcga_long,\n",
    "                                                formula='~ histological_subtype + age',\n",
    "                                                event_col='end_failure',\n",
    "                                                timepoint_end_col='end_time',\n",
    "                                                sample_col='case_id',\n",
    "                                                model_code=models['pem_survival_model_unstructured.stan'],\n",
    "                                                model_cohort='TCGA, unstr hazard',\n",
    "                                                chains=4,\n",
    "                                                iter=1000\n",
    "                                                )"
   ]
  },
  {
   "cell_type": "code",
   "execution_count": null,
   "metadata": {
    "collapsed": true,
    "slideshow": {
     "slide_type": "slide"
    }
   },
   "outputs": [],
   "source": []
  }
 ],
 "metadata": {
  "celltoolbar": "Slideshow",
  "kernelspec": {
   "display_name": "Python 2",
   "language": "python",
   "name": "python2"
  },
  "language_info": {
   "codemirror_mode": {
    "name": "ipython",
    "version": 2
   },
   "file_extension": ".py",
   "mimetype": "text/x-python",
   "name": "python",
   "nbconvert_exporter": "python",
   "pygments_lexer": "ipython2",
   "version": "2.7.9"
  },
  "nav_menu": {},
  "toc": {
   "navigate_menu": true,
   "number_sections": true,
   "sideBar": false,
   "threshold": 6,
   "toc_cell": false,
   "toc_section_display": "block",
   "toc_window_display": false
  },
  "toc_position": {
   "height": "300px",
   "left": "1px",
   "right": "20px",
   "top": "106px",
   "width": "212px"
  }
 },
 "nbformat": 4,
 "nbformat_minor": 0
}
