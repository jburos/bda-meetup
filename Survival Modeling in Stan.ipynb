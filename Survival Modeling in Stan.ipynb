{
 "cells": [
  {
   "cell_type": "code",
   "execution_count": 503,
   "metadata": {
    "ExecuteTime": {
     "end_time": "2016-07-27T16:38:16.129805",
     "start_time": "2016-07-27T16:38:16.102937"
    },
    "collapsed": false,
    "slideshow": {
     "slide_type": "skip"
    }
   },
   "outputs": [
    {
     "name": "stdout",
     "output_type": "stream",
     "text": [
      "The autoreload extension is already loaded. To reload it, use:\n",
      "  %reload_ext autoreload\n"
     ]
    }
   ],
   "source": [
    "%load_ext autoreload\n",
    "%autoreload 2\n",
    "import matplotlib\n",
    "import matplotlib.pyplot as plt\n",
    "%matplotlib inline\n",
    "plt.style.use('ggplot')\n",
    "from numpy.random import uniform, exponential\n",
    "import numpy as np\n",
    "import pandas as pd\n",
    "import seaborn as sb\n",
    "from lifelines.utils import survival_table_from_events\n",
    "from lifelines.plotting import plot_lifetimes\n",
    "\n"
   ]
  },
  {
   "cell_type": "markdown",
   "metadata": {
    "ExecuteTime": {
     "end_time": "2016-07-26T23:53:48.523607",
     "start_time": "2016-07-26T23:53:48.518882"
    },
    "collapsed": true,
    "slideshow": {
     "slide_type": "slide"
    }
   },
   "source": [
    "# Survival Modeling in Stan\n",
    "\n",
    " -- TODO insert image here \n",
    " "
   ]
  },
  {
   "cell_type": "markdown",
   "metadata": {
    "slideshow": {
     "slide_type": "slide"
    }
   },
   "source": [
    "# a very brief introduction\n",
    "\n",
    "Survival analysis typically involves **time to event** as the outcome of interest\n",
    "\n",
    "Typical applications include:\n",
    "* biomedical research (time to clinical event or death)\n",
    "* digital marketing (time to click or KPI)\n",
    "* machine (time to mechanical failure)\n",
    "* psychology (e.g. studies of delayed gratification)\n",
    "* ... etc\n"
   ]
  },
  {
   "cell_type": "markdown",
   "metadata": {
    "slideshow": {
     "slide_type": "slide"
    }
   },
   "source": [
    "## key terms\n",
    "* censoring: when an event isn't observed, but we know \n",
    "   - it happened after time `b` (right censoring)\n",
    "   - it happened before time `a` (left censoring)\n",
    "   - it happened between times `a` and `b` (interval censoring)"
   ]
  },
  {
   "cell_type": "markdown",
   "metadata": {
    "slideshow": {
     "slide_type": "slide"
    }
   },
   "source": [
    "Survival analysis typically makes an assumption of *non-informative censoring*. \n",
    "\n",
    "If this assumption holds, it means that the true event time (if it were to be observed) is unrelated to the censored time."
   ]
  },
  {
   "cell_type": "markdown",
   "metadata": {
    "slideshow": {
     "slide_type": "slide"
    }
   },
   "source": [
    "In a context of a well-designed clinical trial, this assumption is addressed by the study design which imposes an independent censoring process. "
   ]
  },
  {
   "cell_type": "code",
   "execution_count": 504,
   "metadata": {
    "ExecuteTime": {
     "end_time": "2016-07-27T16:38:16.155779",
     "start_time": "2016-07-27T16:38:16.131387"
    },
    "collapsed": false,
    "slideshow": {
     "slide_type": "skip"
    }
   },
   "outputs": [],
   "source": [
    "# (prep for example - borrowed from http://lifelines.readthedocs.io/en/latest/Survival%20Analysis%20intro.html)\n",
    "from numpy.random import uniform, exponential\n",
    "import numpy as np\n",
    "\n",
    "## example of censored data\n",
    "from lifelines.plotting import plot_lifetimes\n",
    "def plot_example():\n",
    "    N = 25\n",
    "    current_time = 10\n",
    "\n",
    "    actual_lifetimes = np.array([[exponential(12), exponential(5)][uniform()<0.3] for i in range(N)])\n",
    "    observed_lifetimes = np.minimum(actual_lifetimes, current_time)\n",
    "    observed = actual_lifetimes < current_time\n",
    "    fig = plt.figure()\n",
    "    _ = plt.xlim(0, 25)\n",
    "    _ = plt.vlines(10, 0, 30, lw=2, linestyles=\"--\")\n",
    "    _ = plt.xlabel('time')\n",
    "    _ = plt.title('Births and deaths of a hypothetical population, censored at $t=10$')    \n",
    "    _ = plot_lifetimes(lifetimes=observed_lifetimes, event_observed=observed)\n",
    "\n"
   ]
  },
  {
   "cell_type": "markdown",
   "metadata": {
    "slideshow": {
     "slide_type": "subslide"
    }
   },
   "source": [
    "For example, it's not uncommon for follow-up time to be truncated after a predetermined time $t=10$ for all patients."
   ]
  },
  {
   "cell_type": "code",
   "execution_count": 505,
   "metadata": {
    "ExecuteTime": {
     "end_time": "2016-07-27T16:38:16.455503",
     "start_time": "2016-07-27T16:38:16.157670"
    },
    "collapsed": false,
    "slideshow": {
     "slide_type": "fragment"
    }
   },
   "outputs": [
    {
     "data": {
      "image/png": "[encoded data removed]",
      "text/plain": [
       "<matplotlib.figure.Figure at 0x7fac087fefd0>"
      ]
     },
     "metadata": {},
     "output_type": "display_data"
    }
   ],
   "source": [
    "plot_example()"
   ]
  },
  {
   "cell_type": "markdown",
   "metadata": {
    "slideshow": {
     "slide_type": "fragment"
    }
   },
   "source": [
    "*however*, this assumption can sometimes be violated if, for example, less healthy patients are more likely to drop out of the study early."
   ]
  },
  {
   "cell_type": "markdown",
   "metadata": {
    "slideshow": {
     "slide_type": "slide"
    }
   },
   "source": [
    "## key terms (cont'd)\n",
    "\n",
    "* failure event: the outcome event of interest\n",
    "* survival: not failure\n",
    "* hazard: risk for failure events"
   ]
  },
  {
   "cell_type": "markdown",
   "metadata": {
    "slideshow": {
     "slide_type": "slide"
    }
   },
   "source": [
    "**Survival**\n",
    "\n",
    "We first define a *Survival* function $S$ as the probability of surviving to time $t$:\n",
    "\n",
    "  $$ S(t)=Pr(T>t) $$\n",
    "\n",
    "where $T$ is the true survival time."
   ]
  },
  {
   "cell_type": "markdown",
   "metadata": {
    "slideshow": {
     "slide_type": "slide"
    }
   },
   "source": [
    "**hazard**\n",
    "\n",
    "We also define the instantaneous *hazard* function $\\lambda$ as the probability of a failure event occuring in the interval [$t$, $t+\\delta t$], given survival to time $t$:\n",
    "\n",
    "\n",
    "  $$ \\lambda(t) =  \\lim_{\\delta t \\rightarrow 0 } \\; \\frac{Pr( t \\le T \\le t + \\delta t | T > t)}{\\delta t} $$"
   ]
  },
  {
   "cell_type": "markdown",
   "metadata": {
    "slideshow": {
     "slide_type": "fragment"
    }
   },
   "source": [
    "Which is equal to \n",
    "\n",
    "  $$ \\lambda(t) = \\frac{-S'(t)}{S(t)} $$"
   ]
  },
  {
   "cell_type": "code",
   "execution_count": 506,
   "metadata": {
    "ExecuteTime": {
     "end_time": "2016-07-27T16:38:16.475013",
     "start_time": "2016-07-27T16:38:16.457348"
    },
    "collapsed": true,
    "slideshow": {
     "slide_type": "skip"
    }
   },
   "outputs": [],
   "source": [
    "## -- TODO \n",
    "## plot hazard <> survival curve\n",
    "## explain why the above relationship makes intuitive sense"
   ]
  },
  {
   "cell_type": "markdown",
   "metadata": {
    "slideshow": {
     "slide_type": "slide"
    }
   },
   "source": [
    "Solving this \n",
    "\n",
    "  $$ \\lambda(t) = \\frac{-S'(t)}{S(t)} $$\n",
    "  \n",
    "yields the following:\n",
    "\n",
    "  $$ S(t) = \\exp\\left( -\\int_0^t \\lambda(z) dz \\right) $$\n",
    "\n",
    "which provides a useful way for us to switch from modeling *hazards* to modeling *Survival*."
   ]
  },
  {
   "cell_type": "markdown",
   "metadata": {
    "slideshow": {
     "slide_type": "slide"
    }
   },
   "source": [
    "The integral in this equation is also sometimes called the *cumulative hazard*, here noted as $H(t)$.\n",
    "\n",
    "  $$ H(t) = \\int_0^t \\lambda(z) dz $$\n",
    "\n",
    "It's worth pointing out that, by definition, the cumulative hazard (estimating $Pr(T \\lt t)$) is the complementary c.d.f of the Survival function (which estimates $Pr(T \\ge t)$)."
   ]
  },
  {
   "cell_type": "markdown",
   "metadata": {
    "slideshow": {
     "slide_type": "slide"
    }
   },
   "source": [
    "\n",
    "As an example, suppose we consider a simple *hazard* function $\\lambda(t)$ as constant over time. \n",
    "\n",
    "E.g. \n",
    "  $$ \\lambda(t) = a $$\n",
    "\n",
    "Cumulative hazard ($H$) would be linearly increasing : \n",
    "\n",
    "  $$ H(t) = \\int_0^t \\lambda(z) dz = at $$\n",
    "\n",
    "And the *Survival* function would be exponentially decreasing as a function of $t$ :\n",
    "\n",
    "  $$ S(t) = \\exp\\left( -\\int_0^t \\lambda(z) dz \\right) = \\exp ( − a t ) $$\n",
    "\n"
   ]
  },
  {
   "cell_type": "code",
   "execution_count": 507,
   "metadata": {
    "ExecuteTime": {
     "end_time": "2016-07-27T16:38:16.502570",
     "start_time": "2016-07-27T16:38:16.476892"
    },
    "collapsed": false,
    "slideshow": {
     "slide_type": "skip"
    }
   },
   "outputs": [],
   "source": [
    "## prep example plot for hazard <> Survival curves\n",
    "def plot_survival_exp(N, censor_time, rate):\n",
    "\n",
    "    sample_data = pd.DataFrame({\n",
    "            't': np.linspace(0, censor_time, num=N),\n",
    "            })\n",
    "    sample_data['hazard'] = rate\n",
    "    sample_data['cum_hazard'] = rate*sample_data.t\n",
    "    sample_data['Survival'] = np.exp(-1 * rate * sample_data.t)\n",
    "    fig = plt.figure()\n",
    "    _ = plt.subplot(131)\n",
    "    _ = plt.plot(sample_data.t, sample_data.hazard, 'b')\n",
    "    _ = plt.title('Hazard $\\lambda(t)$')\n",
    "    _ = plt.xlabel('time')\n",
    "    _ = plt.subplot(132)\n",
    "    _ = plt.plot(sample_data.t, sample_data.cum_hazard, 'r')\n",
    "    _ = plt.title('Cum. hazard $H(t)$')\n",
    "    _ = plt.xlabel('time')\n",
    "    _ = plt.subplot(133)\n",
    "    _ = plt.plot(sample_data.t, sample_data.Survival, 'g')\n",
    "    _ = plt.title('Survival $S(t)$')\n",
    "    _ = plt.xlabel('time')\n",
    "    \n"
   ]
  },
  {
   "cell_type": "markdown",
   "metadata": {
    "slideshow": {
     "slide_type": "slide"
    }
   },
   "source": [
    "Graphically, this would look like the following: "
   ]
  },
  {
   "cell_type": "code",
   "execution_count": 508,
   "metadata": {
    "ExecuteTime": {
     "end_time": "2016-07-27T16:38:17.037504",
     "start_time": "2016-07-27T16:38:16.504573"
    },
    "collapsed": false,
    "slideshow": {
     "slide_type": "fragment"
    }
   },
   "outputs": [
    {
     "data": {
      "image/png": "[encoded data removed]",
      "text/plain": [
       "<matplotlib.figure.Figure at 0x7fac081d4710>"
      ]
     },
     "metadata": {},
     "output_type": "display_data"
    }
   ],
   "source": [
    "## TODO make plot wider\n",
    "plot_survival_exp(N = 1000, censor_time = 10, rate = 0.5)"
   ]
  },
  {
   "cell_type": "code",
   "execution_count": 509,
   "metadata": {
    "ExecuteTime": {
     "end_time": "2016-07-27T16:38:17.062590",
     "start_time": "2016-07-27T16:38:17.039476"
    },
    "collapsed": false,
    "slideshow": {
     "slide_type": "skip"
    }
   },
   "outputs": [],
   "source": [
    "## prep simulate-data example under Exponential model\n",
    "def plot_cum_survival(t, event):\n",
    "    # at each time t, calculate the cumulative survival\n",
    "    cum_survival = survival_table_from_events(sample_data.t, sample_data.event)\n",
    "    cum_survival.reset_index(0, inplace=True)\n",
    "    cum_survival.rename(columns = {'at_risk': 'Survival', 'event_at': 't'}, inplace=True)\n",
    "    # create figure\n",
    "    fig = plt.figure()\n",
    "    _ = sb.lmplot(data=cum_survival, x='t', y='Survival', fit_reg=False)\n",
    "    _ = plt.xlabel('time')\n",
    "    return(cum_survival)\n"
   ]
  },
  {
   "cell_type": "markdown",
   "metadata": {
    "slideshow": {
     "slide_type": "slide"
    }
   },
   "source": [
    "We can also simulate survival times for a population under this fairly simple model."
   ]
  },
  {
   "cell_type": "code",
   "execution_count": null,
   "metadata": {
    "collapsed": true,
    "slideshow": {
     "slide_type": "subslide"
    }
   },
   "outputs": [],
   "source": [
    "# define a function to simulate data\n",
    "def simulate_exp_survival_data(N, censor_time, rate):\n",
    "    ## simulate true lifetimes (t) according to exponential model\n",
    "    sample_data = pd.DataFrame({\n",
    "            'true_t': np.random.exponential((1/rate), size=N) \n",
    "            })\n",
    "    ## censor observations at censor_time\n",
    "    sample_data['t'] = np.minimum(sample_data['true_t'], censor_time)\n",
    "    sample_data['event'] = sample_data['t'] >= sample_data['true_t']\n",
    "    return(sample_data)"
   ]
  },
  {
   "cell_type": "code",
   "execution_count": 517,
   "metadata": {
    "ExecuteTime": {
     "end_time": "2016-07-27T16:40:41.257057",
     "start_time": "2016-07-27T16:40:41.226588"
    },
    "collapsed": false,
    "slideshow": {
     "slide_type": "fragment"
    }
   },
   "outputs": [
    {
     "data": {
      "text/html": [
       "<div>\n",
       "<table border=\"1\" class=\"dataframe\">\n",
       "  <thead>\n",
       "    <tr style=\"text-align: right;\">\n",
       "      <th></th>\n",
       "      <th>true_t</th>\n",
       "      <th>t</th>\n",
       "      <th>event</th>\n",
       "    </tr>\n",
       "  </thead>\n",
       "  <tbody>\n",
       "    <tr>\n",
       "      <th>0</th>\n",
       "      <td>2.198675</td>\n",
       "      <td>2.198675</td>\n",
       "      <td>True</td>\n",
       "    </tr>\n",
       "    <tr>\n",
       "      <th>1</th>\n",
       "      <td>4.047272</td>\n",
       "      <td>4.047272</td>\n",
       "      <td>True</td>\n",
       "    </tr>\n",
       "    <tr>\n",
       "      <th>2</th>\n",
       "      <td>1.691382</td>\n",
       "      <td>1.691382</td>\n",
       "      <td>True</td>\n",
       "    </tr>\n",
       "    <tr>\n",
       "      <th>3</th>\n",
       "      <td>0.144431</td>\n",
       "      <td>0.144431</td>\n",
       "      <td>True</td>\n",
       "    </tr>\n",
       "    <tr>\n",
       "      <th>4</th>\n",
       "      <td>1.384576</td>\n",
       "      <td>1.384576</td>\n",
       "      <td>True</td>\n",
       "    </tr>\n",
       "  </tbody>\n",
       "</table>\n",
       "</div>"
      ],
      "text/plain": [
       "     true_t         t event\n",
       "0  2.198675  2.198675  True\n",
       "1  4.047272  4.047272  True\n",
       "2  1.691382  1.691382  True\n",
       "3  0.144431  0.144431  True\n",
       "4  1.384576  1.384576  True"
      ]
     },
     "execution_count": 517,
     "metadata": {},
     "output_type": "execute_result"
    }
   ],
   "source": [
    "# simulate data assuming constant hazard over time of 0.5\n",
    "df = simulate_exp_survival_data(N = 100, censor_time = 10, rate = 0.5)\n",
    "df.head()"
   ]
  },
  {
   "cell_type": "code",
   "execution_count": 518,
   "metadata": {
    "ExecuteTime": {
     "end_time": "2016-07-27T16:41:23.080602",
     "start_time": "2016-07-27T16:41:22.796925"
    },
    "collapsed": false,
    "slideshow": {
     "slide_type": "subslide"
    }
   },
   "outputs": [
    {
     "data": {
      "text/plain": [
       "<matplotlib.figure.Figure at 0x7fac07a5d150>"
      ]
     },
     "metadata": {},
     "output_type": "display_data"
    },
    {
     "data": {
      "image/png": "[encoded data removed]",
      "text/plain": [
       "<matplotlib.figure.Figure at 0x7fac078224d0>"
      ]
     },
     "metadata": {},
     "output_type": "display_data"
    }
   ],
   "source": [
    "# calculate number of people surviving at each time T\n",
    "# plot Survival to time t given simulated data\n",
    "a = plot_cum_survival(df.t, df.event)\n",
    "_ = plt.title('Simulated survival with $\\lambda={}$'.format(0.5))    "
   ]
  },
  {
   "cell_type": "markdown",
   "metadata": {
    "slideshow": {
     "slide_type": "subslide"
    }
   },
   "source": [
    "Now, overlay computed Survival from simulated data with estimated c.d.f "
   ]
  },
  {
   "cell_type": "code",
   "execution_count": 520,
   "metadata": {
    "ExecuteTime": {
     "end_time": "2016-07-27T16:42:18.415617",
     "start_time": "2016-07-27T16:42:18.108392"
    },
    "collapsed": false,
    "slideshow": {
     "slide_type": "-"
    }
   },
   "outputs": [
    {
     "data": {
      "text/plain": [
       "<matplotlib.figure.Figure at 0x7fac07abdc90>"
      ]
     },
     "metadata": {},
     "output_type": "display_data"
    },
    {
     "data": {
      "image/png": "[encoded data removed]",
      "text/plain": [
       "<matplotlib.figure.Figure at 0x7fac07cb1c10>"
      ]
     },
     "metadata": {},
     "output_type": "display_data"
    }
   ],
   "source": [
    "# re-create earlier plot\n",
    "df = simulate_exp_survival_data(N = 100, censor_time = 10, rate = 0.5)\n",
    "a = plot_cum_survival(df.t, df.event)\n",
    "_ = plt.title('Simulated survival with $\\lambda={}$'.format(0.5))\n",
    "\n",
    "## overlay c.d.f. estimate as exp(-at)\n",
    "test = pd.DataFrame([{\n",
    "            't': t,\n",
    "            'Estimated Surv': np.exp(-1 * 0.5 * t)\n",
    "        } for t in np.linspace(0, 10, num=100)])\n",
    "_ = plt.plot(test.t, 100*test['Estimated Surv'], 'b')\n",
    "_ = plt.legend()"
   ]
  },
  {
   "cell_type": "markdown",
   "metadata": {
    "slideshow": {
     "slide_type": "slide"
    }
   },
   "source": [
    "# the likelihood\n",
    "\n",
    "The data for survival analysis typically constitute a set of observed [`t`, `status`] pairs, where \n",
    "\n",
    "* `t` is the last time a subject was observed alive, and\n",
    "* `status` is a binary (T/F or 1/0) indicator for whether the failure event occurred at time `t`.\n",
    "\n",
    "for each subject under observation."
   ]
  },
  {
   "cell_type": "markdown",
   "metadata": {
    "slideshow": {
     "slide_type": "subslide"
    }
   },
   "source": [
    "The likelihood for each of these observations reflects the joint probability of \n",
    "\n",
    "* surviving to time `t`,\n",
    "* (if an event occurred) having an failure event at time `t` (or in the interval [$t$, $t+\\delta t$])\n",
    "\n",
    "   $$ L = $$ \n",
    "\n"
   ]
  },
  {
   "cell_type": "code",
   "execution_count": 513,
   "metadata": {
    "ExecuteTime": {
     "end_time": "2016-07-27T16:38:18.005026",
     "start_time": "2016-07-27T16:38:17.681417"
    },
    "collapsed": false,
    "slideshow": {
     "slide_type": "slide"
    }
   },
   "outputs": [],
   "source": [
    "## example data from TCGA-BLCA cohort\n",
    "import pandas as pd\n",
    "import io\n",
    "import requests\n",
    "from cohorts.utils import strip_column_names\n",
    "url = 'http://www.cbioportal.org/webservice.do?cmd=getClinicalData&case_set_id=blca_tcga_all'\n",
    "s = requests.get(url).content\n",
    "c = pd.read_csv(io.StringIO(s.decode('utf-8')), delimiter='\\t')\n",
    "df = c.rename(columns=strip_column_names(c.columns))\n",
    "df = df.dropna(subset=['os_months','os_status'])"
   ]
  },
  {
   "cell_type": "code",
   "execution_count": 514,
   "metadata": {
    "ExecuteTime": {
     "end_time": "2016-07-27T16:38:18.042972",
     "start_time": "2016-07-27T16:38:18.007173"
    },
    "collapsed": false,
    "slideshow": {
     "slide_type": "slide"
    }
   },
   "outputs": [
    {
     "data": {
      "text/html": [
       "<div>\n",
       "<table border=\"1\" class=\"dataframe\">\n",
       "  <thead>\n",
       "    <tr style=\"text-align: right;\">\n",
       "      <th></th>\n",
       "      <th>case_id</th>\n",
       "      <th>os_status</th>\n",
       "      <th>os_months</th>\n",
       "      <th>age</th>\n",
       "      <th>histological_subtype</th>\n",
       "      <th>dfs_status</th>\n",
       "      <th>dfs_months</th>\n",
       "    </tr>\n",
       "  </thead>\n",
       "  <tbody>\n",
       "    <tr>\n",
       "      <th>0</th>\n",
       "      <td>TCGA-GV-A40G-01</td>\n",
       "      <td>LIVING</td>\n",
       "      <td>19.05</td>\n",
       "      <td>77.0</td>\n",
       "      <td>Non-Papillary</td>\n",
       "      <td>DiseaseFree</td>\n",
       "      <td>19.05</td>\n",
       "    </tr>\n",
       "    <tr>\n",
       "      <th>1</th>\n",
       "      <td>TCGA-E7-A7DU-01</td>\n",
       "      <td>LIVING</td>\n",
       "      <td>0.92</td>\n",
       "      <td>73.0</td>\n",
       "      <td>Papillary</td>\n",
       "      <td>DiseaseFree</td>\n",
       "      <td>0.92</td>\n",
       "    </tr>\n",
       "    <tr>\n",
       "      <th>2</th>\n",
       "      <td>TCGA-CF-A5UA-01</td>\n",
       "      <td>LIVING</td>\n",
       "      <td>11.99</td>\n",
       "      <td>67.0</td>\n",
       "      <td>Papillary</td>\n",
       "      <td>DiseaseFree</td>\n",
       "      <td>11.99</td>\n",
       "    </tr>\n",
       "    <tr>\n",
       "      <th>3</th>\n",
       "      <td>TCGA-FD-A5BT-01</td>\n",
       "      <td>DECEASED</td>\n",
       "      <td>10.78</td>\n",
       "      <td>84.0</td>\n",
       "      <td>Non-Papillary</td>\n",
       "      <td>NaN</td>\n",
       "      <td>NaN</td>\n",
       "    </tr>\n",
       "    <tr>\n",
       "      <th>4</th>\n",
       "      <td>TCGA-DK-A3X1-01</td>\n",
       "      <td>LIVING</td>\n",
       "      <td>66.00</td>\n",
       "      <td>78.0</td>\n",
       "      <td>Non-Papillary</td>\n",
       "      <td>DiseaseFree</td>\n",
       "      <td>66.00</td>\n",
       "    </tr>\n",
       "  </tbody>\n",
       "</table>\n",
       "</div>"
      ],
      "text/plain": [
       "           case_id os_status  os_months   age histological_subtype  \\\n",
       "0  TCGA-GV-A40G-01    LIVING      19.05  77.0        Non-Papillary   \n",
       "1  TCGA-E7-A7DU-01    LIVING       0.92  73.0            Papillary   \n",
       "2  TCGA-CF-A5UA-01    LIVING      11.99  67.0            Papillary   \n",
       "3  TCGA-FD-A5BT-01  DECEASED      10.78  84.0        Non-Papillary   \n",
       "4  TCGA-DK-A3X1-01    LIVING      66.00  78.0        Non-Papillary   \n",
       "\n",
       "    dfs_status  dfs_months  \n",
       "0  DiseaseFree       19.05  \n",
       "1  DiseaseFree        0.92  \n",
       "2  DiseaseFree       11.99  \n",
       "3          NaN         NaN  \n",
       "4  DiseaseFree       66.00  "
      ]
     },
     "execution_count": 514,
     "metadata": {},
     "output_type": "execute_result"
    }
   ],
   "source": [
    "## inspect key explanatory variables\n",
    "df.loc[:,['case_id', 'os_status', 'os_months', 'age', 'histological_subtype',\n",
    "         'dfs_status', 'dfs_months']].head()"
   ]
  },
  {
   "cell_type": "code",
   "execution_count": 515,
   "metadata": {
    "ExecuteTime": {
     "end_time": "2016-07-27T16:38:18.637241",
     "start_time": "2016-07-27T16:38:18.044786"
    },
    "collapsed": false,
    "scrolled": false,
    "slideshow": {
     "slide_type": "slide"
    }
   },
   "outputs": [
    {
     "data": {
      "text/plain": [
       "<matplotlib.axes._subplots.AxesSubplot at 0x7fac087d2a50>"
      ]
     },
     "execution_count": 515,
     "metadata": {},
     "output_type": "execute_result"
    },
    {
     "data": {
      "image/png": "[encoded data removed]",
      "text/plain": [
       "<matplotlib.figure.Figure at 0x7fac07a892d0>"
      ]
     },
     "metadata": {},
     "output_type": "display_data"
    }
   ],
   "source": [
    "## distribution of survival times\n",
    "import seaborn as sb\n",
    "sb.distplot(df.os_months)"
   ]
  },
  {
   "cell_type": "code",
   "execution_count": null,
   "metadata": {
    "ExecuteTime": {
     "end_time": "2016-07-27T01:35:40.401022",
     "start_time": "2016-07-27T01:35:40.255360"
    },
    "collapsed": false,
    "slideshow": {
     "slide_type": "slide"
    }
   },
   "outputs": [],
   "source": []
  },
  {
   "cell_type": "code",
   "execution_count": null,
   "metadata": {
    "collapsed": true,
    "slideshow": {
     "slide_type": "slide"
    }
   },
   "outputs": [],
   "source": []
  }
 ],
 "metadata": {
  "celltoolbar": "Slideshow",
  "kernelspec": {
   "display_name": "Python 2",
   "language": "python",
   "name": "python2"
  },
  "language_info": {
   "codemirror_mode": {
    "name": "ipython",
    "version": 2
   },
   "file_extension": ".py",
   "mimetype": "text/x-python",
   "name": "python",
   "nbconvert_exporter": "python",
   "pygments_lexer": "ipython2",
   "version": "2.7.9"
  },
  "nav_menu": {},
  "toc": {
   "navigate_menu": true,
   "number_sections": true,
   "sideBar": true,
   "threshold": 6,
   "toc_cell": false,
   "toc_section_display": "block",
   "toc_window_display": false
  }
 },
 "nbformat": 4,
 "nbformat_minor": 0
}
